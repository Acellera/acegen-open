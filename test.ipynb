{
 "cells": [
  {
   "cell_type": "code",
   "execution_count": 1,
   "id": "2b6dc8e0-0478-45eb-be59-f0b85a0fa1f8",
   "metadata": {},
   "outputs": [
    {
     "name": "stderr",
     "output_type": "stream",
     "text": [
      "/shared/morgan/rl/torchrl/data/replay_buffers/samplers.py:37: UserWarning: Failed to import torchrl C++ binaries. Some modules (eg, prioritized replay buffers) may not work with your installation. You seem to be using the nightly version of TorchRL. If this is a local install, there might be an issue with the local installation. Here are some tips to debug this:\n",
      " - make sure ninja and cmake were installed\n",
      " - make sure you ran `python setup.py clean && python setup.py develop` and that no error was raised\n",
      " - make sure the version of PyTorch you are using matches the one that was present in your virtual env during setup.\n",
      "  warnings.warn(EXTENSION_WARNING)\n",
      "/shared/morgan/miniforge3/envs/acegen2/lib/python3.10/site-packages/tqdm/auto.py:21: TqdmWarning: IProgress not found. Please update jupyter and ipywidgets. See https://ipywidgets.readthedocs.io/en/stable/user_install.html\n",
      "  from .autonotebook import tqdm as notebook_tqdm\n",
      "/shared/morgan/miniforge3/envs/acegen2/lib/python3.10/site-packages/mamba_ssm/ops/selective_scan_interface.py:164: FutureWarning: `torch.cuda.amp.custom_fwd(args...)` is deprecated. Please use `torch.amp.custom_fwd(args..., device_type='cuda')` instead.\n",
      "  def forward(ctx, xz, conv1d_weight, conv1d_bias, x_proj_weight, delta_proj_weight,\n",
      "/shared/morgan/miniforge3/envs/acegen2/lib/python3.10/site-packages/mamba_ssm/ops/selective_scan_interface.py:240: FutureWarning: `torch.cuda.amp.custom_bwd(args...)` is deprecated. Please use `torch.amp.custom_bwd(args..., device_type='cuda')` instead.\n",
      "  def backward(ctx, dout):\n",
      "/shared/morgan/miniforge3/envs/acegen2/lib/python3.10/site-packages/mamba_ssm/ops/triton/layernorm.py:508: FutureWarning: `torch.cuda.amp.custom_fwd(args...)` is deprecated. Please use `torch.amp.custom_fwd(args..., device_type='cuda')` instead.\n",
      "  def forward(\n",
      "/shared/morgan/miniforge3/envs/acegen2/lib/python3.10/site-packages/mamba_ssm/ops/triton/layernorm.py:567: FutureWarning: `torch.cuda.amp.custom_bwd(args...)` is deprecated. Please use `torch.amp.custom_bwd(args..., device_type='cuda')` instead.\n",
      "  def backward(ctx, dout, *args):\n"
     ]
    }
   ],
   "source": [
    "from copy import deepcopy\n",
    "from typing import Callable, Union\n",
    "from functools import partial\n",
    "\n",
    "import torch\n",
    "from tensordict.nn import TensorDictModule\n",
    "from tensordict.nn.probabilistic import set_interaction_type as set_exploration_type\n",
    "from tensordict.tensordict import TensorDictBase\n",
    "from torchrl.collectors import RandomPolicy\n",
    "from torchrl.envs import EnvBase, TensorDictPrimer, TransformedEnv, CatFrames, InitTracker, StepCounter, UnsqueezeTransform\n",
    "from torchrl.envs.utils import ExplorationType, step_mdp\n",
    "from torchrl.modules.utils import get_primers_from_module\n",
    "\n",
    "\n",
    "from acegen.rl_env.token_env import TokenEnv\n",
    "from acegen.vocabulary import Vocabulary, SMILESTokenizerChEMBL\n",
    "from acegen.data.utils import smiles_to_tensordict\n",
    "from acegen.models import create_gru_actor, adapt_state_dict, create_gpt2_actor, models\n",
    "\n",
    "from promptsmiles import ScaffoldDecorator, FragmentLinker\n",
    "_has_promptsmiles = True\n",
    "\n",
    "from acegen.rl_env.utils import generate_complete_smiles"
   ]
  },
  {
   "cell_type": "code",
   "execution_count": 1,
   "id": "82a57db8-1c41-4dff-9b81-25f3bdbf8473",
   "metadata": {
    "collapsed": true,
    "jupyter": {
     "outputs_hidden": true,
     "source_hidden": true
    },
    "scrolled": true
   },
   "outputs": [
    {
     "name": "stderr",
     "output_type": "stream",
     "text": [
      "/shared/morgan/miniforge3/envs/acegen/lib/python3.9/site-packages/tqdm/auto.py:21: TqdmWarning: IProgress not found. Please update jupyter and ipywidgets. See https://ipywidgets.readthedocs.io/en/stable/user_install.html\n",
      "  from .autonotebook import tqdm as notebook_tqdm\n"
     ]
    },
    {
     "name": "stdout",
     "output_type": "stream",
     "text": [
      "<class 'acegen.vocabulary.tokenizers.SMILESTokenizer'>\n",
      "['C', 'C', '1', '=', 'C', '(', 'C', '(', '=', 'O', ')', 'N', '2', 'C', 'C', 'C', 'C', 'C', '2', '=', 'N', '1', ')', 'C', 'C', 'N', '3', 'C', 'C', 'C', '(', 'C', 'C', '3', ')', 'C', '4', '=', 'N', 'O', 'C', '5', '=', 'C', '4', 'C', '=', 'C', 'C', '(', '=', 'C', '5', ')', 'F']\n",
      "CC1=C(C(=O)N2CCCCC2=N1)CCN3CCC(CC3)C4=NOC5=C4C=CC(=C5)F\n",
      "<class 'acegen.vocabulary.tokenizers.SMILESTokenizer2'>\n",
      "['C', 'C', '1', '=', 'C', '(', 'C', '(', '=', 'O', ')', 'N', '2', 'C', 'C', 'C', 'C', 'C', '2', '=', 'N', '1', ')', 'C', 'C', 'N', '3', 'C', 'C', 'C', '(', 'C', 'C', '3', ')', 'C', '4', '=', 'N', 'O', 'C', '5', '=', 'C', '4', 'C', '=', 'C', 'C', '(', '=', 'C', '5', ')', 'F']\n",
      "CC1=C(C(=O)N2CCCCC2=N1)CCN3CCC(CC3)C4=NOC5=C4C=CC(=C5)F\n",
      "<class 'acegen.vocabulary.tokenizers.DeepSMILESTokenizer'>\n",
      "['C', 'C', '=', 'C', 'C', '=', 'O', ')', 'N', 'C', 'C', 'C', 'C', 'C', '6', '=', 'N', '%', '1', '0', ')', ')', ')', ')', ')', ')', ')', ')', 'C', 'C', 'N', 'C', 'C', 'C', 'C', 'C', '6', ')', ')', 'C', '=', 'N', 'O', 'C', '=', 'C', '5', 'C', '=', 'C', 'C', '=', 'C', '6', ')', 'F']\n",
      "CC2=C(C(=O)N1CCCCC1=N2)CCN3CCC(CC3)C4=NOC5=C4C=CC(=C5)F\n",
      "<class 'acegen.vocabulary.tokenizers.AISTokenizer'>\n",
      "['[CH3;!R;C]', '[c;R;CCN]', '1', '[n;R;CC]', '[c;R;CNN]', '2', '[n;R;CCC]', '(', '[c;R;CNO]', '(', '=', '[O;!R;C]', ')', '[c;R;CCC]', '1', '[CH2;!R;CC]', '[CH2;!R;CN]', '[N;R;CCC]', '1', '[CH2;R;CN]', '[CH2;R;CC]', '[CH;R;CCC]', '(', '[c;R;CCN]', '3', '[n;R;CO]', '[o;R;CN]', '[c;R;CCO]', '4', '[cH;R;CC]', '[c;R;CCF]', '(', '[F;!R;C]', ')', '[cH;R;CC]', '[cH;R;CC]', '[c;R;CCC]', '3', '4', ')', '[CH2;R;CC]', '[CH2;R;CN]', '1', ')', '[CH2;R;CN]', '[CH2;R;CC]', '[CH2;R;CC]', '[CH2;R;CC]', '2']\n",
      "Cc1nc2n(c(=O)c1CCN1CCC(c3noc4cc(F)ccc34)CC1)CCCC2\n",
      "<class 'acegen.vocabulary.tokenizers.SAFETokenizer'>\n",
      "['C', 'c', '1', 'n', 'c', '2', 'n', '(', 'c', '(', '=', 'O', ')', 'c', '1', '7', ')', 'C', 'C', 'C', 'C', '2', '.', 'c', '1', '8', 'n', 'o', 'c', '2', 'c', 'c', '(', 'F', ')', 'c', 'c', 'c', '1', '2', '.', 'N', '1', '6', 'C', 'C', 'C', '8', 'C', 'C', '1', '.', 'C', '7', 'C', '6']\n",
      "Cc1nc2n(c(=O)c1CCN1CCC(c3noc4cc(F)ccc34)CC1)CCCC2\n",
      "<class 'acegen.vocabulary.tokenizers.SELFIESTokenizer'>\n",
      "['[C]', '[C]', '[=C]', '[Branch1]', '[S]', '[C]', '[=Branch1]', '[C]', '[=O]', '[N]', '[C]', '[C]', '[C]', '[C]', '[C]', '[Ring1]', '[=Branch1]', '[=N]', '[Ring1]', '[O]', '[C]', '[C]', '[N]', '[C]', '[C]', '[C]', '[Branch1]', '[Branch1]', '[C]', '[C]', '[Ring1]', '[=Branch1]', '[C]', '[=N]', '[O]', '[C]', '[=C]', '[Ring1]', '[Branch1]', '[C]', '[=C]', '[C]', '[=Branch1]', '[Ring2]', '[=C]', '[Ring1]', '[=Branch1]', '[F]']\n",
      "CC1=C(C(=O)N2CCCCC2=N1)CCN3CCC(CC3)C4=NOC5=C4C=CC(=C5)F\n"
     ]
    }
   ],
   "source": [
    "from acegen.vocabulary import tokenizers\n",
    "\n",
    "for tokenizer in [tokenizers.SMILESTokenizer, tokenizers.SMILESTokenizer2, tokenizers.DeepSMILESTokenizer, tokenizers.AISTokenizer, tokenizers.SAFETokenizer, tokenizers.SELFIESTokenizer]:\n",
    "    print(tokenizer)\n",
    "    smiles = \"CC1=C(C(=O)N2CCCCC2=N1)CCN3CCC(CC3)C4=NOC5=C4C=CC(=C5)F\"\n",
    "    TOK = tokenizer()\n",
    "    tokens = TOK.tokenize(smiles)\n",
    "    print(tokens)\n",
    "    untokens = TOK.untokenize(tokens)\n",
    "    print(untokens)"
   ]
  },
  {
   "cell_type": "code",
   "execution_count": 5,
   "id": "addf09e6-62cd-4d8d-8012-007ec952d5d8",
   "metadata": {
    "collapsed": true,
    "jupyter": {
     "outputs_hidden": true,
     "source_hidden": true
    },
    "scrolled": true
   },
   "outputs": [
    {
     "name": "stdout",
     "output_type": "stream",
     "text": [
      "> \u001b[0;32m/shared/morgan/acegen-open/acegen/rl_env/utils.py\u001b[0m(268)\u001b[0;36mgenerate_complete_smiles\u001b[0;34m()\u001b[0m\n",
      "\u001b[0;32m    266 \u001b[0;31m        \u001b[0;32mif\u001b[0m \u001b[0mprompt\u001b[0m\u001b[0;34m:\u001b[0m\u001b[0;34m\u001b[0m\u001b[0;34m\u001b[0m\u001b[0m\n",
      "\u001b[0m\u001b[0;32m    267 \u001b[0;31m            \u001b[0;32mimport\u001b[0m \u001b[0mpdb\u001b[0m\u001b[0;34m;\u001b[0m \u001b[0mpdb\u001b[0m\u001b[0;34m.\u001b[0m\u001b[0mset_trace\u001b[0m\u001b[0;34m(\u001b[0m\u001b[0;34m)\u001b[0m\u001b[0;34m\u001b[0m\u001b[0;34m\u001b[0m\u001b[0m\n",
      "\u001b[0m\u001b[0;32m--> 268 \u001b[0;31m            \u001b[0;32mif\u001b[0m \u001b[0misinstance\u001b[0m\u001b[0;34m(\u001b[0m\u001b[0mprompt\u001b[0m\u001b[0;34m,\u001b[0m \u001b[0mstr\u001b[0m\u001b[0;34m)\u001b[0m\u001b[0;34m:\u001b[0m\u001b[0;34m\u001b[0m\u001b[0;34m\u001b[0m\u001b[0m\n",
      "\u001b[0m\u001b[0;32m    269 \u001b[0;31m                \u001b[0mprompt\u001b[0m \u001b[0;34m=\u001b[0m \u001b[0;34m[\u001b[0m\u001b[0mprompt\u001b[0m\u001b[0;34m]\u001b[0m \u001b[0;34m*\u001b[0m \u001b[0mbatch_size\u001b[0m\u001b[0;34m[\u001b[0m\u001b[0;36m0\u001b[0m\u001b[0;34m]\u001b[0m\u001b[0;34m\u001b[0m\u001b[0;34m\u001b[0m\u001b[0m\n",
      "\u001b[0m\u001b[0;32m    270 \u001b[0;31m            \u001b[0;31m# Encode the prompt(s)\u001b[0m\u001b[0;34m\u001b[0m\u001b[0;34m\u001b[0m\u001b[0m\n",
      "\u001b[0m\n"
     ]
    },
    {
     "name": "stdin",
     "output_type": "stream",
     "text": [
      "ipdb>  c\n"
     ]
    },
    {
     "name": "stdout",
     "output_type": "stream",
     "text": [
      "> \u001b[0;32m/shared/morgan/acegen-open/acegen/rl_env/utils.py\u001b[0m(355)\u001b[0;36mgenerate_complete_smiles\u001b[0;34m()\u001b[0m\n",
      "\u001b[0;32m    353 \u001b[0;31m            \u001b[0mtensordicts\u001b[0m\u001b[0;34m[\u001b[0m\u001b[0;34m-\u001b[0m\u001b[0;36m1\u001b[0m\u001b[0;34m]\u001b[0m\u001b[0;34m[\u001b[0m\u001b[0;34m(\u001b[0m\u001b[0;34m\"next\"\u001b[0m\u001b[0;34m,\u001b[0m \u001b[0;34m\"done\"\u001b[0m\u001b[0;34m)\u001b[0m\u001b[0;34m]\u001b[0m \u001b[0;34m=\u001b[0m \u001b[0;34m~\u001b[0m\u001b[0mfinished\u001b[0m\u001b[0;34m.\u001b[0m\u001b[0mclone\u001b[0m\u001b[0;34m(\u001b[0m\u001b[0;34m)\u001b[0m\u001b[0;34m\u001b[0m\u001b[0;34m\u001b[0m\u001b[0m\n",
      "\u001b[0m\u001b[0;32m    354 \u001b[0;31m        \u001b[0;32mimport\u001b[0m \u001b[0mpdb\u001b[0m\u001b[0;34m;\u001b[0m \u001b[0mpdb\u001b[0m\u001b[0;34m.\u001b[0m\u001b[0mset_trace\u001b[0m\u001b[0;34m(\u001b[0m\u001b[0;34m)\u001b[0m\u001b[0;34m\u001b[0m\u001b[0;34m\u001b[0m\u001b[0m\n",
      "\u001b[0m\u001b[0;32m--> 355 \u001b[0;31m        \u001b[0moutput_data\u001b[0m \u001b[0;34m=\u001b[0m \u001b[0mtorch\u001b[0m\u001b[0;34m.\u001b[0m\u001b[0mstack\u001b[0m\u001b[0;34m(\u001b[0m\u001b[0mtensordicts\u001b[0m\u001b[0;34m,\u001b[0m \u001b[0mdim\u001b[0m\u001b[0;34m=\u001b[0m\u001b[0;34m-\u001b[0m\u001b[0;36m1\u001b[0m\u001b[0;34m)\u001b[0m\u001b[0;34m.\u001b[0m\u001b[0mcontiguous\u001b[0m\u001b[0;34m(\u001b[0m\u001b[0;34m)\u001b[0m\u001b[0;34m\u001b[0m\u001b[0;34m\u001b[0m\u001b[0m\n",
      "\u001b[0m\u001b[0;32m    356 \u001b[0;31m        \u001b[0moutput_data\u001b[0m\u001b[0;34m.\u001b[0m\u001b[0mrefine_names\u001b[0m\u001b[0;34m(\u001b[0m\u001b[0;34m...\u001b[0m\u001b[0;34m,\u001b[0m \u001b[0;34m\"time\"\u001b[0m\u001b[0;34m)\u001b[0m\u001b[0;34m\u001b[0m\u001b[0;34m\u001b[0m\u001b[0m\n",
      "\u001b[0m\u001b[0;32m    357 \u001b[0;31m\u001b[0;34m\u001b[0m\u001b[0m\n",
      "\u001b[0m\n"
     ]
    },
    {
     "name": "stdin",
     "output_type": "stream",
     "text": [
      "ipdb>  c\n"
     ]
    },
    {
     "name": "stdout",
     "output_type": "stream",
     "text": [
      "> \u001b[0;32m/shared/morgan/acegen-open/acegen/rl_env/utils.py\u001b[0m(360)\u001b[0;36mgenerate_complete_smiles\u001b[0;34m()\u001b[0m\n",
      "\u001b[0;32m    358 \u001b[0;31m    \u001b[0;32mif\u001b[0m \u001b[0mreturn_smiles_only\u001b[0m\u001b[0;34m:\u001b[0m\u001b[0;34m\u001b[0m\u001b[0;34m\u001b[0m\u001b[0m\n",
      "\u001b[0m\u001b[0;32m    359 \u001b[0;31m        \u001b[0;32mimport\u001b[0m \u001b[0mpdb\u001b[0m\u001b[0;34m;\u001b[0m \u001b[0mpdb\u001b[0m\u001b[0;34m.\u001b[0m\u001b[0mset_trace\u001b[0m\u001b[0;34m(\u001b[0m\u001b[0;34m)\u001b[0m\u001b[0;34m\u001b[0m\u001b[0;34m\u001b[0m\u001b[0m\n",
      "\u001b[0m\u001b[0;32m--> 360 \u001b[0;31m        \u001b[0msmiles\u001b[0m \u001b[0;34m=\u001b[0m \u001b[0moutput_data\u001b[0m\u001b[0;34m.\u001b[0m\u001b[0mget\u001b[0m\u001b[0;34m(\u001b[0m\u001b[0;34m\"action\"\u001b[0m\u001b[0;34m)\u001b[0m\u001b[0;34m.\u001b[0m\u001b[0mcpu\u001b[0m\u001b[0;34m(\u001b[0m\u001b[0;34m)\u001b[0m\u001b[0;34m\u001b[0m\u001b[0;34m\u001b[0m\u001b[0m\n",
      "\u001b[0m\u001b[0;32m    361 \u001b[0;31m        \u001b[0msmiles_str\u001b[0m \u001b[0;34m=\u001b[0m \u001b[0;34m[\u001b[0m\u001b[0mvocabulary\u001b[0m\u001b[0;34m.\u001b[0m\u001b[0mdecode\u001b[0m\u001b[0;34m(\u001b[0m\u001b[0msmi\u001b[0m\u001b[0;34m.\u001b[0m\u001b[0mnumpy\u001b[0m\u001b[0;34m(\u001b[0m\u001b[0;34m)\u001b[0m\u001b[0;34m)\u001b[0m \u001b[0;32mfor\u001b[0m \u001b[0msmi\u001b[0m \u001b[0;32min\u001b[0m \u001b[0msmiles\u001b[0m\u001b[0;34m]\u001b[0m\u001b[0;34m\u001b[0m\u001b[0;34m\u001b[0m\u001b[0m\n",
      "\u001b[0m\u001b[0;32m    362 \u001b[0;31m        \u001b[0;31m# Replace failed encodings with original prompt for PromptSMILES\u001b[0m\u001b[0;34m\u001b[0m\u001b[0;34m\u001b[0m\u001b[0m\n",
      "\u001b[0m\n"
     ]
    },
    {
     "name": "stdin",
     "output_type": "stream",
     "text": [
      "ipdb>  c\n"
     ]
    },
    {
     "name": "stdout",
     "output_type": "stream",
     "text": [
      "> \u001b[0;32m/shared/morgan/acegen-open/acegen/rl_env/utils.py\u001b[0m(268)\u001b[0;36mgenerate_complete_smiles\u001b[0;34m()\u001b[0m\n",
      "\u001b[0;32m    266 \u001b[0;31m        \u001b[0;32mif\u001b[0m \u001b[0mprompt\u001b[0m\u001b[0;34m:\u001b[0m\u001b[0;34m\u001b[0m\u001b[0;34m\u001b[0m\u001b[0m\n",
      "\u001b[0m\u001b[0;32m    267 \u001b[0;31m            \u001b[0;32mimport\u001b[0m \u001b[0mpdb\u001b[0m\u001b[0;34m;\u001b[0m \u001b[0mpdb\u001b[0m\u001b[0;34m.\u001b[0m\u001b[0mset_trace\u001b[0m\u001b[0;34m(\u001b[0m\u001b[0;34m)\u001b[0m\u001b[0;34m\u001b[0m\u001b[0;34m\u001b[0m\u001b[0m\n",
      "\u001b[0m\u001b[0;32m--> 268 \u001b[0;31m            \u001b[0;32mif\u001b[0m \u001b[0misinstance\u001b[0m\u001b[0;34m(\u001b[0m\u001b[0mprompt\u001b[0m\u001b[0;34m,\u001b[0m \u001b[0mstr\u001b[0m\u001b[0;34m)\u001b[0m\u001b[0;34m:\u001b[0m\u001b[0;34m\u001b[0m\u001b[0;34m\u001b[0m\u001b[0m\n",
      "\u001b[0m\u001b[0;32m    269 \u001b[0;31m                \u001b[0mprompt\u001b[0m \u001b[0;34m=\u001b[0m \u001b[0;34m[\u001b[0m\u001b[0mprompt\u001b[0m\u001b[0;34m]\u001b[0m \u001b[0;34m*\u001b[0m \u001b[0mbatch_size\u001b[0m\u001b[0;34m[\u001b[0m\u001b[0;36m0\u001b[0m\u001b[0;34m]\u001b[0m\u001b[0;34m\u001b[0m\u001b[0;34m\u001b[0m\u001b[0m\n",
      "\u001b[0m\u001b[0;32m    270 \u001b[0;31m            \u001b[0;31m# Encode the prompt(s)\u001b[0m\u001b[0;34m\u001b[0m\u001b[0;34m\u001b[0m\u001b[0m\n",
      "\u001b[0m\n"
     ]
    },
    {
     "name": "stdin",
     "output_type": "stream",
     "text": [
      "ipdb>  c\n"
     ]
    },
    {
     "name": "stdout",
     "output_type": "stream",
     "text": [
      "> \u001b[0;32m/shared/morgan/acegen-open/acegen/rl_env/utils.py\u001b[0m(355)\u001b[0;36mgenerate_complete_smiles\u001b[0;34m()\u001b[0m\n",
      "\u001b[0;32m    353 \u001b[0;31m            \u001b[0mtensordicts\u001b[0m\u001b[0;34m[\u001b[0m\u001b[0;34m-\u001b[0m\u001b[0;36m1\u001b[0m\u001b[0;34m]\u001b[0m\u001b[0;34m[\u001b[0m\u001b[0;34m(\u001b[0m\u001b[0;34m\"next\"\u001b[0m\u001b[0;34m,\u001b[0m \u001b[0;34m\"done\"\u001b[0m\u001b[0;34m)\u001b[0m\u001b[0;34m]\u001b[0m \u001b[0;34m=\u001b[0m \u001b[0;34m~\u001b[0m\u001b[0mfinished\u001b[0m\u001b[0;34m.\u001b[0m\u001b[0mclone\u001b[0m\u001b[0;34m(\u001b[0m\u001b[0;34m)\u001b[0m\u001b[0;34m\u001b[0m\u001b[0;34m\u001b[0m\u001b[0m\n",
      "\u001b[0m\u001b[0;32m    354 \u001b[0;31m        \u001b[0;32mimport\u001b[0m \u001b[0mpdb\u001b[0m\u001b[0;34m;\u001b[0m \u001b[0mpdb\u001b[0m\u001b[0;34m.\u001b[0m\u001b[0mset_trace\u001b[0m\u001b[0;34m(\u001b[0m\u001b[0;34m)\u001b[0m\u001b[0;34m\u001b[0m\u001b[0;34m\u001b[0m\u001b[0m\n",
      "\u001b[0m\u001b[0;32m--> 355 \u001b[0;31m        \u001b[0moutput_data\u001b[0m \u001b[0;34m=\u001b[0m \u001b[0mtorch\u001b[0m\u001b[0;34m.\u001b[0m\u001b[0mstack\u001b[0m\u001b[0;34m(\u001b[0m\u001b[0mtensordicts\u001b[0m\u001b[0;34m,\u001b[0m \u001b[0mdim\u001b[0m\u001b[0;34m=\u001b[0m\u001b[0;34m-\u001b[0m\u001b[0;36m1\u001b[0m\u001b[0;34m)\u001b[0m\u001b[0;34m.\u001b[0m\u001b[0mcontiguous\u001b[0m\u001b[0;34m(\u001b[0m\u001b[0;34m)\u001b[0m\u001b[0;34m\u001b[0m\u001b[0;34m\u001b[0m\u001b[0m\n",
      "\u001b[0m\u001b[0;32m    356 \u001b[0;31m        \u001b[0moutput_data\u001b[0m\u001b[0;34m.\u001b[0m\u001b[0mrefine_names\u001b[0m\u001b[0;34m(\u001b[0m\u001b[0;34m...\u001b[0m\u001b[0;34m,\u001b[0m \u001b[0;34m\"time\"\u001b[0m\u001b[0;34m)\u001b[0m\u001b[0;34m\u001b[0m\u001b[0;34m\u001b[0m\u001b[0m\n",
      "\u001b[0m\u001b[0;32m    357 \u001b[0;31m\u001b[0;34m\u001b[0m\u001b[0m\n",
      "\u001b[0m\n"
     ]
    },
    {
     "name": "stdin",
     "output_type": "stream",
     "text": [
      "ipdb>  c\n"
     ]
    },
    {
     "name": "stdout",
     "output_type": "stream",
     "text": [
      "> \u001b[0;32m/shared/morgan/acegen-open/acegen/rl_env/utils.py\u001b[0m(360)\u001b[0;36mgenerate_complete_smiles\u001b[0;34m()\u001b[0m\n",
      "\u001b[0;32m    358 \u001b[0;31m    \u001b[0;32mif\u001b[0m \u001b[0mreturn_smiles_only\u001b[0m\u001b[0;34m:\u001b[0m\u001b[0;34m\u001b[0m\u001b[0;34m\u001b[0m\u001b[0m\n",
      "\u001b[0m\u001b[0;32m    359 \u001b[0;31m        \u001b[0;32mimport\u001b[0m \u001b[0mpdb\u001b[0m\u001b[0;34m;\u001b[0m \u001b[0mpdb\u001b[0m\u001b[0;34m.\u001b[0m\u001b[0mset_trace\u001b[0m\u001b[0;34m(\u001b[0m\u001b[0;34m)\u001b[0m\u001b[0;34m\u001b[0m\u001b[0;34m\u001b[0m\u001b[0m\n",
      "\u001b[0m\u001b[0;32m--> 360 \u001b[0;31m        \u001b[0msmiles\u001b[0m \u001b[0;34m=\u001b[0m \u001b[0moutput_data\u001b[0m\u001b[0;34m.\u001b[0m\u001b[0mget\u001b[0m\u001b[0;34m(\u001b[0m\u001b[0;34m\"action\"\u001b[0m\u001b[0;34m)\u001b[0m\u001b[0;34m.\u001b[0m\u001b[0mcpu\u001b[0m\u001b[0;34m(\u001b[0m\u001b[0;34m)\u001b[0m\u001b[0;34m\u001b[0m\u001b[0;34m\u001b[0m\u001b[0m\n",
      "\u001b[0m\u001b[0;32m    361 \u001b[0;31m        \u001b[0msmiles_str\u001b[0m \u001b[0;34m=\u001b[0m \u001b[0;34m[\u001b[0m\u001b[0mvocabulary\u001b[0m\u001b[0;34m.\u001b[0m\u001b[0mdecode\u001b[0m\u001b[0;34m(\u001b[0m\u001b[0msmi\u001b[0m\u001b[0;34m.\u001b[0m\u001b[0mnumpy\u001b[0m\u001b[0;34m(\u001b[0m\u001b[0;34m)\u001b[0m\u001b[0;34m)\u001b[0m \u001b[0;32mfor\u001b[0m \u001b[0msmi\u001b[0m \u001b[0;32min\u001b[0m \u001b[0msmiles\u001b[0m\u001b[0;34m]\u001b[0m\u001b[0;34m\u001b[0m\u001b[0;34m\u001b[0m\u001b[0m\n",
      "\u001b[0m\u001b[0;32m    362 \u001b[0;31m        \u001b[0;31m# Replace failed encodings with original prompt for PromptSMILES\u001b[0m\u001b[0;34m\u001b[0m\u001b[0;34m\u001b[0m\u001b[0m\n",
      "\u001b[0m\n"
     ]
    },
    {
     "name": "stdin",
     "output_type": "stream",
     "text": [
      "ipdb>  c\n"
     ]
    },
    {
     "name": "stdout",
     "output_type": "stream",
     "text": [
      "TensorDict(\n",
      "    fields={\n",
      "        action: Tensor(shape=torch.Size([2, 200]), device=cpu, dtype=torch.float32, is_shared=False),\n",
      "        done: Tensor(shape=torch.Size([2, 200, 1]), device=cpu, dtype=torch.bool, is_shared=False),\n",
      "        is_init: Tensor(shape=torch.Size([2, 200, 1]), device=cpu, dtype=torch.bool, is_shared=False),\n",
      "        mask: Tensor(shape=torch.Size([2, 200]), device=cpu, dtype=torch.bool, is_shared=False),\n",
      "        next: TensorDict(\n",
      "            fields={\n",
      "                done: Tensor(shape=torch.Size([2, 200, 1]), device=cpu, dtype=torch.bool, is_shared=False),\n",
      "                is_init: Tensor(shape=torch.Size([2, 200, 1]), device=cpu, dtype=torch.bool, is_shared=False),\n",
      "                observation: Tensor(shape=torch.Size([2, 200]), device=cpu, dtype=torch.int32, is_shared=False),\n",
      "                reward: Tensor(shape=torch.Size([2, 200, 1]), device=cpu, dtype=torch.float32, is_shared=False),\n",
      "                sequence: Tensor(shape=torch.Size([2, 200]), device=cpu, dtype=torch.int32, is_shared=False),\n",
      "                terminated: Tensor(shape=torch.Size([2, 200, 1]), device=cpu, dtype=torch.bool, is_shared=False),\n",
      "                truncated: Tensor(shape=torch.Size([2, 200, 1]), device=cpu, dtype=torch.bool, is_shared=False)},\n",
      "            batch_size=torch.Size([2, 200]),\n",
      "            device=cpu,\n",
      "            is_shared=False),\n",
      "        observation: Tensor(shape=torch.Size([2, 200]), device=cpu, dtype=torch.int32, is_shared=False),\n",
      "        promptsmiles: Tensor(shape=torch.Size([2, 200]), device=cpu, dtype=torch.float32, is_shared=False),\n",
      "        sample_log_prob: Tensor(shape=torch.Size([2, 200]), device=cpu, dtype=torch.float32, is_shared=False),\n",
      "        sequence: Tensor(shape=torch.Size([2, 200]), device=cpu, dtype=torch.int32, is_shared=False),\n",
      "        terminated: Tensor(shape=torch.Size([2, 200, 1]), device=cpu, dtype=torch.bool, is_shared=False),\n",
      "        truncated: Tensor(shape=torch.Size([2, 200, 1]), device=cpu, dtype=torch.bool, is_shared=False)},\n",
      "    batch_size=torch.Size([2, 200]),\n",
      "    device=cpu,\n",
      "    is_shared=False)\n",
      "NC(=N)c1cc2nc(-c3ccc(Cn4cc(COc5ccc(-c6ccc(OCc7cn(Cc8ccc(-c9nc%10cc(C(=N)N)ccc%10[nH]9)o8)nn7)cc6)cc5)nn4)o3)[nH]c2cc1\n",
      "c1cc(OCc2cn(Cc3ccc(-c4nc5cc(C(=N)N)ccc5[nH]4)o3)nn2)ccc1-c6ccc(OCc7cn(Cc8ccc(-c9nc%10cc(C(=N)N)ccc%10[nH]9)o8)nn7)cc6)CC1=O\n"
     ]
    }
   ],
   "source": [
    "output_data = generate_complete_smiles(\n",
    "    environment=env,\n",
    "    vocabulary=vocabulary,\n",
    "    policy_sample=actor_inference,\n",
    "    policy_evaluate=actor_training,\n",
    "    prompt=None, #\"c%11ccccc%11\", # \"c1ccccc1C(=O)\",\n",
    "    promptsmiles=\"N=C(N)c1c(*)cc2[nH]c(-c3ccc(Cn4cc(COc5ccc(-c6c(*)cc(OCc7cn(Cc8ccc(-c9nc%10cc(C(=N)N)ccc%10[nH]9)o8)nn7)cc6)cc5)nn4)o3)nc2c1\", #\"c%12ccc(*)cc%12\", # \"N1(*)CCN(CC1)CCCCN(*)\", # fragment \"N1(*)CCNCC1.C1(*)CC1.c1cncc(*)c1\", # scaffold \"N1(*)CCN(CC1)CCCCN(*)\"\n",
    "    promptsmiles_optimize=False,\n",
    "    promptsmiles_shuffle=True,\n",
    "    promptsmiles_multi=False,\n",
    "    return_smiles_only=False\n",
    ")\n",
    "if isinstance(output_data, list):\n",
    "    _ = [print(s) for s in output_data]\n",
    "else:\n",
    "    print(output_data)\n",
    "    smiles = output_data.get(\"action\").cpu()\n",
    "    smiles_str = [vocabulary.decode(smi.numpy()) for smi in smiles]\n",
    "    _ = [print(s) for s in smiles_str]"
   ]
  },
  {
   "cell_type": "code",
   "execution_count": 2,
   "id": "4e11d1dd-5912-40dc-9201-d81852849783",
   "metadata": {
    "scrolled": true
   },
   "outputs": [],
   "source": [
    "# Load prereqs\n",
    "smiles = [\n",
    "    'c1ccccc1',\n",
    "    'c1ccccc1C(=O)C'\n",
    "]\n",
    "\n",
    "# Get available device\n",
    "device = torch.device(\"cpu\")\n",
    "\n",
    "create_actor, _, _, voc_path, ckpt_path, tokenizer = models[\"gru\"]\n",
    "#create_actor, voc_path, ckpt_path, tokenizer = (create_gru_actor, \"acegen/priors/chembl_filtered_vocabulary.txt\", \"acegen/priors/gru_chembl_filtered.ckpt\", SMILESTokenizerChEMBL())\n",
    "#create_actor, voc_path, ckpt_path, tokenizer = (create_gpt2_actor, \"priors/enamine_real_vocabulary.txt\",\"/shared/albert/acegen-open/priors/gpt2_enamine_real.ckpt\", SMILESTokenizer2())\n",
    "\n",
    "# Load vocabulary\n",
    "vocabulary = Vocabulary.load(voc_path, tokenizer=tokenizer)\n",
    "\n",
    "# Create models\n",
    "ckpt = torch.load(ckpt_path, map_location=device, weights_only=True)\n",
    "actor_training, actor_inference = create_actor(vocabulary_size=len(vocabulary), temperature=1.0)\n",
    "actor_inference.load_state_dict(\n",
    "    adapt_state_dict(deepcopy(ckpt), actor_inference.state_dict())\n",
    ")\n",
    "actor_inference = actor_inference.to(device)\n",
    "actor_training = actor_training.to(device)\n",
    "\n",
    "# Create RL environment\n",
    "env_kwargs = {\n",
    "    \"start_token\": vocabulary.start_token_index,\n",
    "    \"end_token\": vocabulary.end_token_index,\n",
    "    \"length_vocabulary\": len(vocabulary),\n",
    "    \"batch_size\": 10,\n",
    "    \"device\": device,\n",
    "}\n",
    "\n",
    "def create_env_fn():\n",
    "    \"\"\"Create a single RL rl_env.\"\"\"\n",
    "    env = TokenEnv(**env_kwargs)\n",
    "    env = TransformedEnv(env)\n",
    "    env.append_transform(InitTracker())\n",
    "    if primers := get_primers_from_module(actor_inference):\n",
    "        env.append_transform(primers)\n",
    "    return env\n",
    "\n",
    "env = create_env_fn()\n",
    "#data = generate_complete_smiles(policy=actor_inference, environment=env)"
   ]
  },
  {
   "cell_type": "code",
   "execution_count": 4,
   "id": "fae93911-1237-4c38-b2b7-4f866be14622",
   "metadata": {},
   "outputs": [
    {
     "name": "stdout",
     "output_type": "stream",
     "text": [
      "c1c(C(=O)Nc2ccc(C(=O)N3CCCC3)cc2)ccc(C)c1\n",
      "c1cccc(C(NC(=O)Nc2cc3c(c(NC(C)C)n[nH]3)cn2)C)c1\n",
      "c1cccc(C(C)NC(=O)Nc2cc3c(c(NC(C)C)n[nH]3)cn2)c1\n",
      "c1cc(C(=O)NCC(NC2CCCCC2)=O)ccc1C(C)(C)C\n",
      "c1cc(C(=O)Nc2ccc(C3CNCCO3)cc2)ccc1\n",
      "c1cc(C(=O)NCC(=O)NC2CCCCC2)ccc1S(=O)(N1CCCCC1)=O\n",
      "c1cc(C(=O)NCC(=O)NC2CCCCC2)ccc1S(=O)(=O)N\n",
      "c1cc(C(=O)Nc2ccc(C3CNCCO3)cc2)ccc1\n",
      "c1cc(C(=O)NCC(NC2CCCCC2)=O)ccc1C\n",
      "c1cc(C(=O)NCC(NC2CCCCC2)=O)ccc1OC\n"
     ]
    }
   ],
   "source": [
    "data = generate_complete_smiles(\n",
    "    environment=env,\n",
    "    vocabulary=vocabulary,\n",
    "    policy_sample=actor_inference,\n",
    "    return_smiles_only=True,\n",
    "    temperature=0.1\n",
    ")\n",
    "for d in data:\n",
    "    print(d)"
   ]
  },
  {
   "cell_type": "code",
   "execution_count": 41,
   "id": "fa6fbdae-a761-46d3-bdf5-3753db3d27b0",
   "metadata": {},
   "outputs": [
    {
     "data": {
      "text/plain": [
       "tensor([[[ -4.0747,  -7.4466,  -2.8203,  ...,   4.2903,   2.9706,   3.0404],\n",
       "         [ -5.6927,  -5.5361,  -1.8578,  ...,   2.8094,  -2.2807,  -2.0903],\n",
       "         [ -4.1017,  -8.4821,  -2.5741,  ...,   8.3017,   5.0653,   4.8057],\n",
       "         ...,\n",
       "         [  0.0000,   0.0000,   0.0000,  ...,   0.0000,   0.0000,   0.0000],\n",
       "         [  0.0000,   0.0000,   0.0000,  ...,   0.0000,   0.0000,   0.0000],\n",
       "         [  0.0000,   0.0000,   0.0000,  ...,   0.0000,   0.0000,   0.0000]],\n",
       "\n",
       "        [[ -4.0747,  -7.4466,  -2.8203,  ...,   4.2903,   2.9706,   3.0404],\n",
       "         [ -5.5144,  -9.1012,   1.2390,  ...,   2.5216,  -2.8495,  -3.3048],\n",
       "         [ -6.1429,  -5.8778,   1.8811,  ...,   2.0452,  -3.1004,  -2.8386],\n",
       "         ...,\n",
       "         [  0.0000,   0.0000,   0.0000,  ...,   0.0000,   0.0000,   0.0000],\n",
       "         [  0.0000,   0.0000,   0.0000,  ...,   0.0000,   0.0000,   0.0000],\n",
       "         [  0.0000,   0.0000,   0.0000,  ...,   0.0000,   0.0000,   0.0000]],\n",
       "\n",
       "        [[ -4.0747,  -7.4466,  -2.8203,  ...,   4.2903,   2.9706,   3.0404],\n",
       "         [ -5.5144,  -9.1012,   1.2390,  ...,   2.5216,  -2.8495,  -3.3048],\n",
       "         [ -6.1182, -11.5904,  -1.7702,  ...,   1.6601,  -3.1442,  -3.6431],\n",
       "         ...,\n",
       "         [  0.0000,   0.0000,   0.0000,  ...,   0.0000,   0.0000,   0.0000],\n",
       "         [  0.0000,   0.0000,   0.0000,  ...,   0.0000,   0.0000,   0.0000],\n",
       "         [  0.0000,   0.0000,   0.0000,  ...,   0.0000,   0.0000,   0.0000]],\n",
       "\n",
       "        ...,\n",
       "\n",
       "        [[ -4.0747,  -7.4466,  -2.8203,  ...,   4.2903,   2.9706,   3.0404],\n",
       "         [ -6.0553,  -5.7859,  -0.1332,  ...,   2.5011,  -2.2520,  -2.3648],\n",
       "         [ -4.6141,  -8.7664,  -1.6473,  ...,   7.3055,   4.0098,   3.8883],\n",
       "         ...,\n",
       "         [  0.0000,   0.0000,   0.0000,  ...,   0.0000,   0.0000,   0.0000],\n",
       "         [  0.0000,   0.0000,   0.0000,  ...,   0.0000,   0.0000,   0.0000],\n",
       "         [  0.0000,   0.0000,   0.0000,  ...,   0.0000,   0.0000,   0.0000]],\n",
       "\n",
       "        [[ -4.0747,  -7.4466,  -2.8203,  ...,   4.2903,   2.9706,   3.0404],\n",
       "         [ -6.8061,  -5.9656,  -0.8420,  ...,   2.1431,  -1.9864,  -1.9749],\n",
       "         [ -6.1133,  -8.4478,  -1.7101,  ...,   5.4786,   3.9230,   4.1987],\n",
       "         ...,\n",
       "         [  0.0000,   0.0000,   0.0000,  ...,   0.0000,   0.0000,   0.0000],\n",
       "         [  0.0000,   0.0000,   0.0000,  ...,   0.0000,   0.0000,   0.0000],\n",
       "         [  0.0000,   0.0000,   0.0000,  ...,   0.0000,   0.0000,   0.0000]],\n",
       "\n",
       "        [[ -4.0747,  -7.4466,  -2.8203,  ...,   4.2903,   2.9706,   3.0404],\n",
       "         [ -6.8061,  -5.9656,  -0.8420,  ...,   2.1431,  -1.9864,  -1.9749],\n",
       "         [ -6.1133,  -8.4478,  -1.7101,  ...,   5.4786,   3.9230,   4.1987],\n",
       "         ...,\n",
       "         [  0.0000,   0.0000,   0.0000,  ...,   0.0000,   0.0000,   0.0000],\n",
       "         [  0.0000,   0.0000,   0.0000,  ...,   0.0000,   0.0000,   0.0000],\n",
       "         [  0.0000,   0.0000,   0.0000,  ...,   0.0000,   0.0000,   0.0000]]])"
      ]
     },
     "execution_count": 41,
     "metadata": {},
     "output_type": "execute_result"
    }
   ],
   "source": [
    "#inf_logits = data[\"logits\"].clone()\n",
    "inf_logits"
   ]
  },
  {
   "cell_type": "code",
   "execution_count": 32,
   "id": "cae7a0cc-8af4-457d-b898-978615f60d9f",
   "metadata": {},
   "outputs": [],
   "source": [
    "og_log_prob = data[\"sample_log_prob\"].clone()"
   ]
  },
  {
   "cell_type": "code",
   "execution_count": 36,
   "id": "936250e4-7df9-4b05-b994-fc0ed4b219da",
   "metadata": {},
   "outputs": [
    {
     "ename": "RuntimeError",
     "evalue": "The size of tensor a (100) must match the size of tensor b (10) at non-singleton dimension 1",
     "output_type": "error",
     "traceback": [
      "\u001b[0;31m---------------------------------------------------------------------------\u001b[0m",
      "\u001b[0;31mRuntimeError\u001b[0m                              Traceback (most recent call last)",
      "Cell \u001b[0;32mIn[36], line 1\u001b[0m\n\u001b[0;32m----> 1\u001b[0m \u001b[43mog_log_prob\u001b[49m\u001b[43m \u001b[49m\u001b[38;5;241;43m*\u001b[39;49m\u001b[43m \u001b[49m\u001b[43mmask\u001b[49m\u001b[38;5;241;43m.\u001b[39;49m\u001b[43msum\u001b[49m\u001b[43m(\u001b[49m\u001b[38;5;241;43m-\u001b[39;49m\u001b[38;5;241;43m1\u001b[39;49m\u001b[43m)\u001b[49m\n",
      "\u001b[0;31mRuntimeError\u001b[0m: The size of tensor a (100) must match the size of tensor b (10) at non-singleton dimension 1"
     ]
    }
   ],
   "source": [
    "og_log_prob * mask.sum(-1)"
   ]
  },
  {
   "cell_type": "markdown",
   "id": "93aaa621-422a-4fb6-9041-de9672089f7d",
   "metadata": {},
   "source": [
    "#### Actor training"
   ]
  },
  {
   "cell_type": "code",
   "execution_count": 33,
   "id": "693913c3-94b9-48c4-9863-2185761b9554",
   "metadata": {},
   "outputs": [],
   "source": [
    "model = actor_training\n",
    "mask = data.get(\"mask\").squeeze(-1)\n",
    "actions = data.get(\"action\")\n",
    "model_in = data.select(*model.in_keys, strict=False)\n",
    "dist = model.get_dist(model_in)\n",
    "log_prob = dist.log_prob(actions)\n",
    "log_prob = (log_prob * mask).sum(-1)"
   ]
  },
  {
   "cell_type": "code",
   "execution_count": 44,
   "id": "1a285e76-6d72-49a2-9b55-0f1162cbbd3d",
   "metadata": {
    "collapsed": true,
    "jupyter": {
     "outputs_hidden": true
    }
   },
   "outputs": [
    {
     "data": {
      "text/plain": [
       "tensor([[[-19.5038, -26.2475, -16.9949,  ...,  -2.7737,  -5.4131,  -5.2736],\n",
       "         [-30.1359, -29.8229, -22.4661,  ..., -13.1318, -23.3120, -22.9311],\n",
       "         [-26.6587, -35.4195, -23.6034,  ...,  -1.8519,  -8.3246,  -8.8439],\n",
       "         ...,\n",
       "         [  0.0000, -30.5823, -26.8065,  ..., -21.7027, -21.8613, -22.5407],\n",
       "         [  0.0000, -30.5771, -26.8114,  ..., -21.6964, -21.8537, -22.5398],\n",
       "         [  0.0000, -30.5720, -26.8164,  ..., -21.6901, -21.8462, -22.5389]],\n",
       "\n",
       "        [[-19.5038, -26.2475, -16.9949,  ...,  -2.7737,  -5.4131,  -5.2736],\n",
       "         [-20.6632, -27.8367,  -7.1562,  ...,  -4.5912, -15.3333, -16.2439],\n",
       "         [-34.1759, -33.6457, -18.1279,  ..., -17.7996, -28.0910, -27.5672],\n",
       "         ...,\n",
       "         [  0.0000, -31.1820, -26.3252,  ..., -20.8977, -21.2366, -22.2002],\n",
       "         [  0.0000, -31.1848, -26.3162,  ..., -20.8840, -21.2339, -22.2012],\n",
       "         [  0.0000, -31.1876, -26.3076,  ..., -20.8703, -21.2310, -22.2020]],\n",
       "\n",
       "        [[-19.5038, -26.2475, -16.9949,  ...,  -2.7737,  -5.4131,  -5.2736],\n",
       "         [-20.6632, -27.8367,  -7.1562,  ...,  -4.5912, -15.3333, -16.2439],\n",
       "         [-21.9195, -32.8638, -13.2234,  ...,  -6.3628, -15.9715, -16.9692],\n",
       "         ...,\n",
       "         [  0.0000, -30.2550, -25.7016,  ..., -20.0045, -20.1045, -21.5637],\n",
       "         [  0.0000, -30.2523, -25.7090,  ..., -19.9907, -20.0958, -21.5598],\n",
       "         [  0.0000, -30.2498, -25.7167,  ..., -19.9773, -20.0873, -21.5559]],\n",
       "\n",
       "        ...,\n",
       "\n",
       "        [[-19.5038, -26.2475, -16.9949,  ...,  -2.7737,  -5.4131,  -5.2736],\n",
       "         [-30.4152, -29.8766, -18.5711,  ..., -13.3025, -22.8086, -23.0343],\n",
       "         [-27.1758, -35.4804, -21.2423,  ...,  -3.3367,  -9.9280, -10.1711],\n",
       "         ...,\n",
       "         [  0.0000, -31.4352, -25.5918,  ..., -20.8290, -20.9654, -21.8410],\n",
       "         [  0.0000, -31.4350, -25.5911,  ..., -20.8181, -20.9629, -21.8409],\n",
       "         [  0.0000, -31.4347, -25.5906,  ..., -20.8075, -20.9605, -21.8408]],\n",
       "\n",
       "        [[-19.5038, -26.2475, -16.9949,  ...,  -2.7737,  -5.4131,  -5.2736],\n",
       "         [-35.6328, -33.9520, -23.7047,  ..., -17.7345, -25.9935, -25.9704],\n",
       "         [-26.5375, -31.2065, -17.7311,  ...,  -3.3536,  -6.4649,  -5.9135],\n",
       "         ...,\n",
       "         [  0.0000, -30.2818, -25.3282,  ..., -19.5224, -20.9635, -20.6023],\n",
       "         [  0.0000, -30.2849, -25.3340,  ..., -19.5109, -20.9555, -20.5979],\n",
       "         [  0.0000, -30.2880, -25.3399,  ..., -19.4994, -20.9476, -20.5938]],\n",
       "\n",
       "        [[-19.5038, -26.2475, -16.9949,  ...,  -2.7737,  -5.4131,  -5.2736],\n",
       "         [-35.6328, -33.9520, -23.7047,  ..., -17.7345, -25.9935, -25.9704],\n",
       "         [-26.5375, -31.2065, -17.7311,  ...,  -3.3536,  -6.4649,  -5.9135],\n",
       "         ...,\n",
       "         [  0.0000, -31.4760, -26.6867,  ..., -20.2561, -22.7783, -21.8535],\n",
       "         [  0.0000, -31.4610, -26.6767,  ..., -20.2513, -22.7648, -21.8448],\n",
       "         [  0.0000, -31.4465, -26.6673,  ..., -20.2468, -22.7517, -21.8369]]],\n",
       "       grad_fn=<SubBackward0>)"
      ]
     },
     "execution_count": 44,
     "metadata": {},
     "output_type": "execute_result"
    }
   ],
   "source": [
    "dist.logits"
   ]
  }
 ],
 "metadata": {
  "kernelspec": {
   "display_name": "Python 3 (ipykernel)",
   "language": "python",
   "name": "python3"
  },
  "language_info": {
   "codemirror_mode": {
    "name": "ipython",
    "version": 3
   },
   "file_extension": ".py",
   "mimetype": "text/x-python",
   "name": "python",
   "nbconvert_exporter": "python",
   "pygments_lexer": "ipython3",
   "version": "3.10.14"
  }
 },
 "nbformat": 4,
 "nbformat_minor": 5
}
